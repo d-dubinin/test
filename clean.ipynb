{
 "cells": [
  {
   "cell_type": "code",
   "execution_count": 2,
   "id": "0590024a",
   "metadata": {},
   "outputs": [
    {
     "data": {
      "text/plain": [
       "<module 'helpers' from '/Users/daniildubinin/Documents/lecture-notes/MA1/ML/MLProject1/helpers.py'>"
      ]
     },
     "execution_count": 2,
     "metadata": {},
     "output_type": "execute_result"
    }
   ],
   "source": [
    "import importlib\n",
    "import seaborn as sns\n",
    "import numpy as np\n",
    "import matplotlib.pyplot as plt\n",
    "import helpers\n",
    "importlib.reload(helpers)"
   ]
  },
  {
   "cell_type": "markdown",
   "id": "db242d87",
   "metadata": {},
   "source": [
    "# First Filter (found by hand useless feautures)"
   ]
  },
  {
   "cell_type": "code",
   "execution_count": 3,
   "id": "f62f94a3",
   "metadata": {},
   "outputs": [],
   "source": [
    "fields_to_drop = [\"_STATE\",\"FMONTH\",\"IDATE\",\"IMONTH\",\n",
    "    \"IDAY\",\"IYEAR\",\"DISPCODE\",\"SEQNO\",\"_PSU\",\n",
    "    \"CTELENUM\",\"PVTRESD1\",\"STATERES\",\"CELLFON3\",\n",
    "    \"LADULT\",\"NUMADULT\",\"NUMMEN\",\"NUMWOMEN\",\n",
    "    \"CTELNUM1\",\"CELLFON2\",\"CADULT\",\"PVTRESD2\",\n",
    "    \"CSTATE\",\"LANDLINE\",\"HHADULT\",\"HLTHPLN1\",\n",
    "    \"MARITAL\",\"EDUCA\",\"RENTHOM1\",\"NUMHHOL2\",\n",
    "    \"NUMPHON2\",\"CPDEMO1\",\"VETERAN3\",\"EMPLOY1\",\n",
    "    \"CHILDREN\",\"INCOME2\",\"INTERNET\",\"MEDCOST\",\n",
    "    \"USEEQUIP\",\"BLIND\",\"DECIDE\", \"DIFFWALK\",\n",
    "    \"DIFFDRES\",\"DIFFALON\",\"SEATBELT\", \"IMFVPLAC\", \n",
    "    \"CAREGIV1\",\"CRGVREL1\",\"CRGVLNG1\",\"CRGVHRS1\",\n",
    "    \"CRGVPRB1\",\"CRGVPERS\",\"CRGVHOUS\",\"CRGVEXPT\",\n",
    "    \"VINOCRE2\",\"VIINSUR2\",\"CDHELP\",\"SXORIENT\", \n",
    "    \"TRNSGNDR\",\"RCSGENDR\", \"RCSRLTN2\", \"QSTVER\",\n",
    "    \"QSTLANG\",\"MSCODE\",'_STSTR','_STRWT',\n",
    "    '_RAWRAKE','_WT2RAKE','_CHISPNC','_DUALUSE',\n",
    "    '_DUALCOR','_LLCPWT','_HCVU651','_DRDXAR1',\n",
    "    '_PRACE1','_MRACE1','_HISPANC','_RACE',\n",
    "    '_RACEG21','_RACEGR3','_RACE_G1','_CHLDCNT',\n",
    "    '_EDUCAG','_INCOMG','_RFSEAT2','_RFSEAT3']\n"
   ]
  },
  {
   "cell_type": "markdown",
   "id": "64ad804e",
   "metadata": {},
   "source": [
    "# Load dataset"
   ]
  },
  {
   "cell_type": "code",
   "execution_count": 4,
   "id": "8fb5b41d",
   "metadata": {},
   "outputs": [],
   "source": [
    "train_dict, test_dict, y_train, train_ids, test_ids = helpers.load_csv_data('data/dataset')"
   ]
  },
  {
   "cell_type": "markdown",
   "id": "041d6d08",
   "metadata": {},
   "source": [
    "# Remove feautures with >70% missing values"
   ]
  },
  {
   "cell_type": "code",
   "execution_count": null,
   "id": "91b2702b",
   "metadata": {},
   "outputs": [],
   "source": [
    "keep_dict = helpers.filter_features_by_nan(train_dict,threshold=70)"
   ]
  },
  {
   "cell_type": "markdown",
   "id": "35c2f5bd",
   "metadata": {},
   "source": [
    "# Drop \"fields_to drop\""
   ]
  },
  {
   "cell_type": "code",
   "execution_count": null,
   "id": "a7b4c952",
   "metadata": {},
   "outputs": [],
   "source": [
    "train_clean, test_clean = helpers.drop_and_keep_features(keep_dict, test_dict, fields_to_drop)"
   ]
  },
  {
   "cell_type": "markdown",
   "id": "6cd2ab58",
   "metadata": {},
   "source": [
    "# Dictionary with feautures where 7, 9 etc with \"refused\" or \"don't know\" answers"
   ]
  },
  {
   "cell_type": "code",
   "execution_count": 5,
   "id": "97bca5dc",
   "metadata": {},
   "outputs": [],
   "source": [
    "invalid_dict = {\n",
    "    (7,9): ['GENHLTH','PERSDOC2','CHECKUP1',\n",
    "            'BPHIGH4','BPMEDS','BLOODCHO',\n",
    "            'CHOLCHK','TOLDHI2','CVDSTRK3',\n",
    "            'ASTHMA3','CHCSCNCR','CHCOCNCR',\n",
    "            'CHCCOPD1','HAVARTH3','ADDEPEV2',\n",
    "            'CHCKIDNY','DIABETE3','QLACTLM2',\n",
    "            'SMOKE100','SMOKDAY2','USENOW3',\n",
    "            'EXERANY2','CHOLCHK','DRNKANY5',\n",
    "            '_RFBMI5','_CHOLCHK','_RFSMOK3',\n",
    "            'PAMISS1_','PNEUVAC3','FLUSHOT6'],\n",
    "    (77,99): ['PHYSHLTH','MENTHLTH','POORHLTH',\n",
    "              'DRNK3GE5','MAXDRNKS','AVEDRNK2',\n",
    "              'EXRACT11'],\n",
    "    (777,999): ['ALCDAY5','FRUITJU1','FRUIT1',\n",
    "                'FVBEANS','FVGREEN','FVORANG',\n",
    "                'VEGETAB1','EXEROFT1','EXERHMM1','MAXVO2_',\n",
    "                'FC60_'],\n",
    "    (7777,9999): ['WEIGHT2','HEIGHT3'],\n",
    "    (9): ['_VEGLT1','_TOTINDA','_PACAT1',\n",
    "          '_PAINDX1','_PA150R2', '_PA300R2',\n",
    "          '_PA30021', '_PASTRNG', '_PAREC1',\n",
    "          '_PASTAE1', '_FLSHOT6', '_LMTACT1',\n",
    "          '_LMTWRK1','_LMTSCL1','_PNEUMO2',\n",
    "          '_AIDTST3', '_RFHLTH','_RFHYPE5',\n",
    "          '_LTASTH1','_CASTHM1', '_ASTHMS1',\n",
    "          '_SMOKER3','_RFBING5','_RFDRHV5',\n",
    "          '_FRTLT1','_RFCHOL'],\n",
    "    (99): ['PAFREQ1_', 'PAFREQ2_', 'STRFREQ_'],\n",
    "\n",
    "    (99900): ['_DRNKWEK'],\n",
    "    (14): ['_AGEG5YR'],\n",
    "    (99999): ['WTKG3'],\n",
    "    (900): ['DROCDY3','DROCDY3_'],\n",
    "    (3): ['_AGE65YR']\n",
    "\n",
    "    \n",
    "}"
   ]
  },
  {
   "cell_type": "markdown",
   "id": "b8ffc1ec",
   "metadata": {},
   "source": [
    "# Replace 7,9 etc with nans"
   ]
  },
  {
   "cell_type": "code",
   "execution_count": null,
   "id": "ee053383",
   "metadata": {},
   "outputs": [],
   "source": [
    "helpers.replace_invalid_with_nan_inplace(train_clean, invalid_dict)"
   ]
  },
  {
   "cell_type": "code",
   "execution_count": null,
   "id": "cdef3c06",
   "metadata": {},
   "outputs": [],
   "source": [
    "n_rows = len(next(iter(train_clean.values())))  # number of samples\n",
    "\n",
    "for name, values in train_clean.items():\n",
    "    if name in set(list(train_clean.keys())):\n",
    "        nan_pct = np.isnan(values).sum() / n_rows * 100\n",
    "        print(f'{name}: {nan_pct}')"
   ]
  },
  {
   "cell_type": "markdown",
   "id": "1b06145e",
   "metadata": {},
   "source": [
    "# Drop feautures with > 30 nan's (à contrôler les feautures qui ont été drop)"
   ]
  },
  {
   "cell_type": "markdown",
   "id": "5688ac41",
   "metadata": {},
   "source": [
    "## Feautures with >30% nan's"
   ]
  },
  {
   "cell_type": "code",
   "execution_count": null,
   "id": "6ae401dd",
   "metadata": {},
   "outputs": [],
   "source": [
    "n_rows = len(next(iter(train_clean.values())))  # number of samples\n",
    "feautures_20 = {}\n",
    "\n",
    "for name, values in train_clean.items():\n",
    "    if name in set(list(train_clean.keys())):\n",
    "        nan_pct = np.isnan(values).sum() / n_rows * 100\n",
    "        if nan_pct >30:\n",
    "            feautures_20[name] = round(float(nan_pct),2)\n",
    "            print(f'{name}: {nan_pct}')"
   ]
  },
  {
   "cell_type": "markdown",
   "id": "ea28f441",
   "metadata": {},
   "source": [
    "## Drop them"
   ]
  },
  {
   "cell_type": "code",
   "execution_count": null,
   "id": "8cd4948f",
   "metadata": {},
   "outputs": [],
   "source": [
    "keep_dict = helpers.filter_features_by_nan(train_clean,threshold=30)"
   ]
  },
  {
   "cell_type": "markdown",
   "id": "659ff968",
   "metadata": {},
   "source": [
    "# percentage of missing values with left feautures"
   ]
  },
  {
   "cell_type": "code",
   "execution_count": null,
   "id": "0e501ed5",
   "metadata": {},
   "outputs": [],
   "source": [
    "n_rows = len(next(iter(keep_dict.values())))  # number of samples\n",
    "\n",
    "for name, values in keep_dict.items():\n",
    "    if name in set(list(keep_dict.keys())):\n",
    "        nan_pct = np.isnan(values).sum() / n_rows * 100\n",
    "        print(f'{name}: {nan_pct}')"
   ]
  },
  {
   "cell_type": "markdown",
   "id": "e2585b7d",
   "metadata": {},
   "source": [
    "# Looked at feautures and found feautures that were related to other ones"
   ]
  },
  {
   "cell_type": "code",
   "execution_count": null,
   "id": "cc6e9225",
   "metadata": {},
   "outputs": [],
   "source": [
    "new_to_drop = [\n",
    "'PHYSHLTH', 'MENTHLTH', 'BPHIGH4',\n",
    "'_CHOLCHK', 'BLOODCHO', 'CHOLCHK',\n",
    "'TOLDHI2', '_CASTHM1', '_LTASTH1',\n",
    "'ASTHMA3', 'HIVTST6', '_AGE80',\n",
    "'_AGE_G', '_LMTSCL1' , 'WEIGHT2',\n",
    "'HEIGHT3','HTIN4','HTM4','WTKG3',\n",
    "'_BMI5','_RFBMI5','QLACTLM2',\n",
    "'EXERANY2','STRENGTH','_TOTINDA',\n",
    "'STRFREQ_','PAMISS1_', '_PA150R2',\n",
    "'_PA300R2','_PA30021','_PASTRNG',\n",
    "'_PASTAE1','_LMTWRK1', 'SMOKE100',\n",
    "'USENOW3','_RFSMOK3','ALCDAY5',\n",
    "'DRNKANY5', 'DROCDY3_','_RFDRHV5',\n",
    "'_MISFRTN','_MISVEGN',\n",
    " '_FRTRESP', '_VEGRESP','_FRUITEX','_VEGETEX',\n",
    " 'GENHLTH', 'FRUITJU1', 'FRUIT1', 'FVBEANS',\n",
    " 'FVGREEN', 'FVORANG','VEGETAB1',\n",
    " '_FRUTSUM','_VEGESUM','_FRT16','_VEG23',\n",
    " '_VEGLT1','_FRTLT1','_AGE65YR'\n",
    "\n",
    "]"
   ]
  },
  {
   "cell_type": "code",
   "execution_count": null,
   "id": "6cf26a31",
   "metadata": {},
   "outputs": [],
   "source": [
    "train_clean, test_clean, final_keep = helpers.drop_and_keep_features(keep_dict, test_dict, new_to_drop)"
   ]
  },
  {
   "cell_type": "markdown",
   "id": "90575186",
   "metadata": {},
   "source": [
    "# separate y=1, y=-1"
   ]
  },
  {
   "cell_type": "code",
   "execution_count": null,
   "id": "1aa5afa2",
   "metadata": {},
   "outputs": [],
   "source": [
    "mask_pos = (y_train == 1)\n",
    "mask_neg = (y_train == -1)\n",
    "\n",
    "# split features\n",
    "features_pos = {k: v[mask_pos] for k, v in train_clean.items()}\n",
    "features_neg = {k: v[mask_neg] for k, v in train_clean.items()}\n",
    "\n",
    "# split targets\n",
    "y_pos = y_train[mask_pos]\n",
    "y_neg = y_train[mask_neg]"
   ]
  },
  {
   "cell_type": "code",
   "execution_count": null,
   "id": "74bbca05",
   "metadata": {},
   "outputs": [],
   "source": [
    "print(f'y = -1: {len(y_neg)}')\n",
    "print(f'y = 1: {len(y_pos)}')"
   ]
  },
  {
   "cell_type": "code",
   "execution_count": null,
   "id": "f83f811a",
   "metadata": {},
   "outputs": [],
   "source": [
    "import numpy as np\n",
    "import matplotlib.pyplot as plt\n",
    "\n",
    "# count how many samples in each class\n",
    "n_pos = np.sum(y_train == 1)\n",
    "idx_pos = np.where(y_train == 1)[0]\n",
    "idx_neg = np.where(y_train == -1)[0]\n",
    "\n",
    "# random subsample negatives\n",
    "np.random.seed(42)\n",
    "idx_neg_sampled = np.random.choice(idx_neg, size=n_pos, replace=False)\n",
    "\n",
    "# number of features\n",
    "n_features = len(train_clean)\n",
    "n_cols = 4\n",
    "n_rows = int(np.ceil(n_features / n_cols))\n",
    "\n",
    "fig, axes = plt.subplots(n_rows, n_cols, figsize=(n_cols*5, n_rows*4))\n",
    "\n",
    "for i, (feature_name, values) in enumerate(train_clean.items()):\n",
    "    ax = axes.flat[i]\n",
    "    \n",
    "    vals_pos = values[idx_pos]\n",
    "    vals_neg = values[idx_neg_sampled]\n",
    "    \n",
    "    ax.hist(vals_pos, bins='auto', alpha=0.5, label=\"y = 1\")\n",
    "    ax.hist(vals_neg, bins='auto', alpha=0.5, label=\"y = -1 (sampled)\")\n",
    "    \n",
    "    ax.set_title(feature_name)\n",
    "    ax.set_xlabel(feature_name)\n",
    "    ax.set_ylabel(\"Count\")\n",
    "    ax.legend()\n",
    "\n",
    "# Hide empty subplots (if number of features not multiple of 4)\n",
    "for j in range(i+1, n_rows*n_cols):\n",
    "    fig.delaxes(axes.flat[j])\n",
    "\n",
    "plt.tight_layout()\n",
    "plt.show()\n"
   ]
  },
  {
   "cell_type": "markdown",
   "id": "8c8a33b1",
   "metadata": {},
   "source": [
    "# Revisited feautures and condensed values"
   ]
  },
  {
   "cell_type": "code",
   "execution_count": null,
   "id": "8328f1b3",
   "metadata": {},
   "outputs": [],
   "source": [
    "# First condition: values 1 or 2 → set to 1\n",
    "train_clean['PERSDOC2'][np.where((train_clean['PERSDOC2'] == 1) | (train_clean['PERSDOC2'] == 2))] = 1\n",
    "\n",
    "# Second condition: values 3 → set to 2\n",
    "train_clean['PERSDOC2'][np.where(train_clean['PERSDOC2'] == 3)] = 2\n",
    "\n",
    "train_clean['CHECKUP1'][np.where(\n",
    "    (train_clean['CHECKUP1'] == 2) | \n",
    "    (train_clean['CHECKUP1'] == 3) | \n",
    "    (train_clean['CHECKUP1'] == 4) | \n",
    "    (train_clean['CHECKUP1'] == 8)\n",
    ")] = 2"
   ]
  }
 ],
 "metadata": {
  "kernelspec": {
   "display_name": "base",
   "language": "python",
   "name": "python3"
  },
  "language_info": {
   "codemirror_mode": {
    "name": "ipython",
    "version": 3
   },
   "file_extension": ".py",
   "mimetype": "text/x-python",
   "name": "python",
   "nbconvert_exporter": "python",
   "pygments_lexer": "ipython3",
   "version": "3.13.2"
  }
 },
 "nbformat": 4,
 "nbformat_minor": 5
}
